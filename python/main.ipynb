{
 "cells": [
  {
   "cell_type": "code",
   "execution_count": null,
   "id": "a8d189af",
   "metadata": {},
   "outputs": [],
   "source": [
    "import sys\n",
    "from pathlib import Path\n",
    "from idh2022fns import compute_nMx, calc_e0, compute_idh_saude\n",
    "import pandas as pd"
   ]
  },
  {
   "cell_type": "code",
   "execution_count": null,
   "id": "04b9e642",
   "metadata": {},
   "outputs": [],
   "source": [
    "root_dir = Path(__file__).resolve().parents[1]\n",
    "sys.path.append(str(root_dir))\n",
    "\n",
    "# ======================================\n",
    "# 1. Calcular taxas etárias (nMx)\n",
    "# ======================================\n",
    "mx = compute_nMx(df_pop, df_obitos)\n",
    "print(\"nMx calculadas:\", mx.shape)\n",
    "\n",
    "# ======================================\n",
    "# 2. Calcular e0 municipal (por sexo)\n",
    "# ======================================\n",
    "e0_list = []\n",
    "for (mun, sexo), grp in mx.groupby([\"cod_municipio\",\"sexo\"]):\n",
    "    e0 = calc_e0(grp)\n",
    "    e0_list.append((mun, sexo, e0))\n",
    "\n",
    "df_e0 = pd.DataFrame(e0_list, columns=[\"cod_municipio\",\"sexo\",\"e0\"])\n",
    "print(\"e0 estimadas:\", df_e0.shape)\n",
    "\n",
    "# ======================================\n",
    "# 3. Calcular média ponderada por sexo (total municipal)\n",
    "pop_weights = df_pop.groupby([\"cod_municipio\",\"sexo\"], as_index=False)[\"pop\"].sum()\n",
    "df_e0_w = df_e0.merge(pop_weights, on=[\"cod_municipio\",\"sexo\"], how=\"left\")\n",
    "\n",
    "df_e0_total = (\n",
    "    df_e0_w.groupby(\"cod_municipio\", as_index=False)\n",
    "    .apply(lambda g: pd.Series({\n",
    "        \"e0_total\": (g[\"e0\"] * g[\"pop\"]).sum() / g[\"pop\"].sum()\n",
    "    }))\n",
    ")\n",
    "\n",
    "# ======================================\n",
    "# 4. Calcular o IDH-Saúde\n",
    "idh_saude = compute_idh_saude(df_e0_total)\n",
    "idh_saude.to_csv(root_dir / \"data/idh_saude_2022.csv\", index=False)\n",
    "\n",
    "print(idh_saude.head())\n"
   ]
  }
 ],
 "metadata": {
  "language_info": {
   "name": "python"
  }
 },
 "nbformat": 4,
 "nbformat_minor": 5
}
